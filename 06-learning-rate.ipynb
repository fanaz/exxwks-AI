{
 "cells": [
  {
   "cell_type": "markdown",
   "metadata": {},
   "source": [
    "# Learning Rate"
   ]
  },
  {
   "cell_type": "markdown",
   "metadata": {},
   "source": [
    "Die Learning Rate (LR) legt fest, wie stark die Gewichte der Neuronen pro Trainingslauf angepasst werden, und beeinflusst somit direkt die Trainingsgeschwindigkeit des Netzwerkes. Die LR ist ein wichtiger Hyperparameter: Ist sie zu niedrig, kovergiert das Model nur sehr langsam. Ist sie zu hoch, kann die Fehlerfunktion unter Umständen überhaupt nicht minimiert werden. In diesem Notebook werden diese Fälle demonstriert, sowie der LR Finder ausprobiert."
   ]
  },
  {
   "cell_type": "code",
   "execution_count": null,
   "metadata": {},
   "outputs": [],
   "source": []
  }
 ],
 "metadata": {
  "kernelspec": {
   "display_name": "Python 3",
   "language": "python",
   "name": "python3"
  },
  "language_info": {
   "codemirror_mode": {
    "name": "ipython",
    "version": 3
   },
   "file_extension": ".py",
   "mimetype": "text/x-python",
   "name": "python",
   "nbconvert_exporter": "python",
   "pygments_lexer": "ipython3",
   "version": "3.7.1"
  }
 },
 "nbformat": 4,
 "nbformat_minor": 2
}
